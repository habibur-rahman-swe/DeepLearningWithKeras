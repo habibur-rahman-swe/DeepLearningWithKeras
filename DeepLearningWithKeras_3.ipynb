{
  "nbformat": 4,
  "nbformat_minor": 0,
  "metadata": {
    "colab": {
      "provenance": [],
      "authorship_tag": "ABX9TyO10TOKfE0Nj8DCuJl0YxIi",
      "include_colab_link": true
    },
    "kernelspec": {
      "name": "python3",
      "display_name": "Python 3"
    },
    "language_info": {
      "name": "python"
    }
  },
  "cells": [
    {
      "cell_type": "markdown",
      "metadata": {
        "id": "view-in-github",
        "colab_type": "text"
      },
      "source": [
        "<a href=\"https://colab.research.google.com/github/habibur-rahman-swe/DeepLearningWithKeras/blob/main/DeepLearningWithKeras_3.ipynb\" target=\"_parent\"><img src=\"https://colab.research.google.com/assets/colab-badge.svg\" alt=\"Open In Colab\"/></a>"
      ]
    },
    {
      "cell_type": "code",
      "execution_count": null,
      "metadata": {
        "id": "z7cso5yI4Zl5"
      },
      "outputs": [],
      "source": [
        "import tensorflow as tf\n",
        "from tensorflow import keras\n",
        "import pandas as pd\n",
        "import numpy as np\n",
        "from random import randint\n",
        "from sklearn.utils import shuffle\n",
        "from sklearn.preprocessing import MinMaxScaler"
      ]
    },
    {
      "cell_type": "code",
      "source": [
        "path = \"/content/sample_data/california_housing_test.csv\""
      ],
      "metadata": {
        "id": "98IGI00rg5mH"
      },
      "execution_count": null,
      "outputs": []
    },
    {
      "cell_type": "code",
      "source": [
        "train_labels = []\n",
        "train_samples = []"
      ],
      "metadata": {
        "id": "KWuR43P-hB02"
      },
      "execution_count": null,
      "outputs": []
    },
    {
      "cell_type": "code",
      "source": [
        "for i in range(50):\n",
        "  # The ~5% of younger individuals who did experience side effects\n",
        "  random_younger = randint(13, 64)\n",
        "  train_samples.append(random_younger)\n",
        "  train_labels.append(1)\n",
        "\n",
        "  # The ~5% of older individuals who did not experience side effects\n",
        "  random_older = randint(65, 100)\n",
        "  train_samples.append(random_older)\n",
        "  train_labels.append(0)\n",
        "\n",
        "for i in range(1000):\n",
        "  # The 95% of younger individuals who did not experience side effects\n",
        "  random_younger = randint(13, 64)\n",
        "  train_samples.append(random_younger)\n",
        "  train_labels.append(0)\n",
        "\n",
        "  # The 95% of older individuals who did experience side effects\n",
        "  random_older = randint(65, 100)\n",
        "  train_samples.append(random_older)\n",
        "  train_labels.append(1)"
      ],
      "metadata": {
        "id": "Nqsx6lkzhJ_9"
      },
      "execution_count": null,
      "outputs": []
    },
    {
      "cell_type": "code",
      "source": [
        "print(len(train_samples),train_samples[:5])\n",
        "print(len(train_labels),train_labels[:5])"
      ],
      "metadata": {
        "colab": {
          "base_uri": "https://localhost:8080/"
        },
        "id": "jS3QFfc6ku2f",
        "outputId": "bddebd6d-866a-4525-e436-062ee65f6003"
      },
      "execution_count": null,
      "outputs": [
        {
          "output_type": "stream",
          "name": "stdout",
          "text": [
            "2100 [46, 65, 48, 99, 60]\n",
            "2100 [1, 0, 1, 0, 1]\n"
          ]
        }
      ]
    },
    {
      "cell_type": "code",
      "source": [
        "train_labels = np.array(train_labels)\n",
        "train_samples = np.array(train_samples)\n",
        "train_labels, train_samples = shuffle(train_labels, train_samples)"
      ],
      "metadata": {
        "id": "BNwTtBRBmRPp"
      },
      "execution_count": null,
      "outputs": []
    },
    {
      "cell_type": "markdown",
      "source": [],
      "metadata": {
        "id": "xK1sNkbqmwLH"
      }
    },
    {
      "cell_type": "code",
      "source": [
        "# prompt: how to see the train_saples length\n",
        "\n",
        "len(train_samples)\n"
      ],
      "metadata": {
        "id": "y8xRp871lLa_",
        "colab": {
          "base_uri": "https://localhost:8080/"
        },
        "outputId": "08c51934-1650-4e5c-e8e6-38422399c938"
      },
      "execution_count": null,
      "outputs": [
        {
          "output_type": "execute_result",
          "data": {
            "text/plain": [
              "2100"
            ]
          },
          "metadata": {},
          "execution_count": 8
        }
      ]
    },
    {
      "cell_type": "code",
      "source": [
        "scaler = MinMaxScaler(feature_range=(0, 1))\n",
        "scaled_train_samples = scaler.fit_transform(train_samples.reshape(-1, 1))\n",
        "scaled_train_samples[:5]"
      ],
      "metadata": {
        "colab": {
          "base_uri": "https://localhost:8080/"
        },
        "id": "wlY0VKEqpXy9",
        "outputId": "b84d5074-366d-48f0-e9bb-e5cbe922aa7c"
      },
      "execution_count": null,
      "outputs": [
        {
          "output_type": "execute_result",
          "data": {
            "text/plain": [
              "array([[0.82758621],\n",
              "       [0.40229885],\n",
              "       [1.        ],\n",
              "       [0.49425287],\n",
              "       [0.93103448]])"
            ]
          },
          "metadata": {},
          "execution_count": 10
        }
      ]
    },
    {
      "cell_type": "code",
      "source": [
        "# Creating an Artificial nural network\n",
        "import tensorflow as tf\n",
        "from tensorflow import keras\n",
        "from tensorflow.keras.models import Sequential\n",
        "from tensorflow.keras.layers import Activation, Dense\n",
        "from tensorflow.keras.optimizers import Adam\n",
        "from tensorflow.keras.metrics import categorical_crossentropy"
      ],
      "metadata": {
        "id": "FZ_-VPurplaM"
      },
      "execution_count": null,
      "outputs": []
    },
    {
      "cell_type": "code",
      "source": [],
      "metadata": {
        "id": "pWkScU9tuCsI"
      },
      "execution_count": null,
      "outputs": []
    },
    {
      "cell_type": "code",
      "source": [],
      "metadata": {
        "id": "eVEw510NuCq0"
      },
      "execution_count": null,
      "outputs": []
    },
    {
      "cell_type": "code",
      "source": [
        "model = Sequential([\n",
        "    Dense(units=16, input_shape=(1,), activation='relu'),\n",
        "    Dense(units=32, activation='relu'),\n",
        "    Dense(units=2, activation='softmax')\n",
        "])"
      ],
      "metadata": {
        "id": "-tVCHGP4rUf9"
      },
      "execution_count": null,
      "outputs": []
    },
    {
      "cell_type": "code",
      "source": [
        "model.summary()"
      ],
      "metadata": {
        "colab": {
          "base_uri": "https://localhost:8080/"
        },
        "id": "pV1I0FGZsLHV",
        "outputId": "6d755d3f-d501-4c6f-d53e-139aa34fabe9"
      },
      "execution_count": null,
      "outputs": [
        {
          "output_type": "stream",
          "name": "stdout",
          "text": [
            "Model: \"sequential_1\"\n",
            "_________________________________________________________________\n",
            " Layer (type)                Output Shape              Param #   \n",
            "=================================================================\n",
            " dense_1 (Dense)             (None, 16)                32        \n",
            "                                                                 \n",
            " dense_2 (Dense)             (None, 32)                544       \n",
            "                                                                 \n",
            " dense_3 (Dense)             (None, 2)                 66        \n",
            "                                                                 \n",
            "=================================================================\n",
            "Total params: 642 (2.51 KB)\n",
            "Trainable params: 642 (2.51 KB)\n",
            "Non-trainable params: 0 (0.00 Byte)\n",
            "_________________________________________________________________\n"
          ]
        }
      ]
    },
    {
      "cell_type": "code",
      "source": [
        "model.compile(optimizer=Adam(learning_rate=0.0001), loss='sparse_categorical_crossentropy', metrics=['accuracy'])"
      ],
      "metadata": {
        "id": "Eadgd9kruIJ8"
      },
      "execution_count": null,
      "outputs": []
    },
    {
      "cell_type": "code",
      "source": [
        "model.fit(x=scaled_train_samples, y=train_labels, validation_split=0.1, batch_size=10, shuffle=True, epochs=30, verbose=2)"
      ],
      "metadata": {
        "colab": {
          "base_uri": "https://localhost:8080/"
        },
        "id": "c-DaIA2Tu-qU",
        "outputId": "319dad61-57e8-4191-fe5a-6b84bff244d1"
      },
      "execution_count": null,
      "outputs": [
        {
          "output_type": "stream",
          "name": "stdout",
          "text": [
            "Epoch 1/30\n",
            "189/189 - 1s - loss: 0.7101 - accuracy: 0.3799 - val_loss: 0.6831 - val_accuracy: 0.4952 - 1s/epoch - 7ms/step\n",
            "Epoch 2/30\n",
            "189/189 - 0s - loss: 0.6640 - accuracy: 0.5360 - val_loss: 0.6486 - val_accuracy: 0.5429 - 306ms/epoch - 2ms/step\n",
            "Epoch 3/30\n",
            "189/189 - 0s - loss: 0.6306 - accuracy: 0.6053 - val_loss: 0.6132 - val_accuracy: 0.6238 - 356ms/epoch - 2ms/step\n",
            "Epoch 4/30\n",
            "189/189 - 0s - loss: 0.5852 - accuracy: 0.7217 - val_loss: 0.5648 - val_accuracy: 0.7762 - 357ms/epoch - 2ms/step\n",
            "Epoch 5/30\n",
            "189/189 - 0s - loss: 0.5466 - accuracy: 0.7873 - val_loss: 0.5310 - val_accuracy: 0.8095 - 306ms/epoch - 2ms/step\n",
            "Epoch 6/30\n",
            "189/189 - 0s - loss: 0.5150 - accuracy: 0.8079 - val_loss: 0.5007 - val_accuracy: 0.8190 - 379ms/epoch - 2ms/step\n",
            "Epoch 7/30\n",
            "189/189 - 0s - loss: 0.4855 - accuracy: 0.8270 - val_loss: 0.4710 - val_accuracy: 0.8476 - 365ms/epoch - 2ms/step\n",
            "Epoch 8/30\n",
            "189/189 - 0s - loss: 0.4574 - accuracy: 0.8508 - val_loss: 0.4433 - val_accuracy: 0.8667 - 312ms/epoch - 2ms/step\n",
            "Epoch 9/30\n",
            "189/189 - 0s - loss: 0.4307 - accuracy: 0.8709 - val_loss: 0.4176 - val_accuracy: 0.8667 - 372ms/epoch - 2ms/step\n",
            "Epoch 10/30\n",
            "189/189 - 0s - loss: 0.4060 - accuracy: 0.8794 - val_loss: 0.3937 - val_accuracy: 0.8905 - 342ms/epoch - 2ms/step\n",
            "Epoch 11/30\n",
            "189/189 - 0s - loss: 0.3832 - accuracy: 0.8963 - val_loss: 0.3729 - val_accuracy: 0.8905 - 315ms/epoch - 2ms/step\n",
            "Epoch 12/30\n",
            "189/189 - 0s - loss: 0.3632 - accuracy: 0.8989 - val_loss: 0.3540 - val_accuracy: 0.9048 - 328ms/epoch - 2ms/step\n",
            "Epoch 13/30\n",
            "189/189 - 0s - loss: 0.3453 - accuracy: 0.9090 - val_loss: 0.3380 - val_accuracy: 0.9048 - 319ms/epoch - 2ms/step\n",
            "Epoch 14/30\n",
            "189/189 - 0s - loss: 0.3295 - accuracy: 0.9143 - val_loss: 0.3241 - val_accuracy: 0.9190 - 360ms/epoch - 2ms/step\n",
            "Epoch 15/30\n",
            "189/189 - 0s - loss: 0.3164 - accuracy: 0.9243 - val_loss: 0.3127 - val_accuracy: 0.9190 - 431ms/epoch - 2ms/step\n",
            "Epoch 16/30\n",
            "189/189 - 0s - loss: 0.3050 - accuracy: 0.9228 - val_loss: 0.3030 - val_accuracy: 0.9190 - 497ms/epoch - 3ms/step\n",
            "Epoch 17/30\n",
            "189/189 - 1s - loss: 0.2955 - accuracy: 0.9280 - val_loss: 0.2951 - val_accuracy: 0.9286 - 501ms/epoch - 3ms/step\n",
            "Epoch 18/30\n",
            "189/189 - 1s - loss: 0.2878 - accuracy: 0.9323 - val_loss: 0.2882 - val_accuracy: 0.9286 - 506ms/epoch - 3ms/step\n",
            "Epoch 19/30\n",
            "189/189 - 1s - loss: 0.2807 - accuracy: 0.9302 - val_loss: 0.2831 - val_accuracy: 0.9286 - 504ms/epoch - 3ms/step\n",
            "Epoch 20/30\n",
            "189/189 - 0s - loss: 0.2754 - accuracy: 0.9370 - val_loss: 0.2780 - val_accuracy: 0.9286 - 427ms/epoch - 2ms/step\n",
            "Epoch 21/30\n",
            "189/189 - 0s - loss: 0.2705 - accuracy: 0.9402 - val_loss: 0.2740 - val_accuracy: 0.9286 - 346ms/epoch - 2ms/step\n",
            "Epoch 22/30\n",
            "189/189 - 0s - loss: 0.2667 - accuracy: 0.9376 - val_loss: 0.2707 - val_accuracy: 0.9286 - 362ms/epoch - 2ms/step\n",
            "Epoch 23/30\n",
            "189/189 - 0s - loss: 0.2633 - accuracy: 0.9392 - val_loss: 0.2680 - val_accuracy: 0.9286 - 345ms/epoch - 2ms/step\n",
            "Epoch 24/30\n",
            "189/189 - 0s - loss: 0.2603 - accuracy: 0.9381 - val_loss: 0.2657 - val_accuracy: 0.9286 - 344ms/epoch - 2ms/step\n",
            "Epoch 25/30\n",
            "189/189 - 0s - loss: 0.2580 - accuracy: 0.9407 - val_loss: 0.2634 - val_accuracy: 0.9286 - 351ms/epoch - 2ms/step\n",
            "Epoch 26/30\n",
            "189/189 - 0s - loss: 0.2559 - accuracy: 0.9402 - val_loss: 0.2619 - val_accuracy: 0.9286 - 319ms/epoch - 2ms/step\n",
            "Epoch 27/30\n",
            "189/189 - 0s - loss: 0.2541 - accuracy: 0.9392 - val_loss: 0.2605 - val_accuracy: 0.9286 - 376ms/epoch - 2ms/step\n",
            "Epoch 28/30\n",
            "189/189 - 0s - loss: 0.2525 - accuracy: 0.9407 - val_loss: 0.2589 - val_accuracy: 0.9286 - 363ms/epoch - 2ms/step\n",
            "Epoch 29/30\n",
            "189/189 - 0s - loss: 0.2511 - accuracy: 0.9407 - val_loss: 0.2575 - val_accuracy: 0.9286 - 353ms/epoch - 2ms/step\n",
            "Epoch 30/30\n",
            "189/189 - 0s - loss: 0.2498 - accuracy: 0.9407 - val_loss: 0.2566 - val_accuracy: 0.9286 - 387ms/epoch - 2ms/step\n"
          ]
        },
        {
          "output_type": "execute_result",
          "data": {
            "text/plain": [
              "<keras.src.callbacks.History at 0x791de9e8cfd0>"
            ]
          },
          "metadata": {},
          "execution_count": 21
        }
      ]
    },
    {
      "cell_type": "code",
      "source": [
        "test_labels = []\n",
        "test_samples = []"
      ],
      "metadata": {
        "id": "KI5T0E3cvbT9"
      },
      "execution_count": null,
      "outputs": []
    },
    {
      "cell_type": "code",
      "source": [
        "for i in range(50):\n",
        "  # The ~5% of younger individuals who did experience side effects\n",
        "  random_younger = randint(13, 64)\n",
        "  test_samples.append(random_younger)\n",
        "  test_labels.append(1)\n",
        "\n",
        "  # The ~5% of older individuals who did not experience side effects\n",
        "  random_older = randint(65, 100)\n",
        "  test_samples.append(random_older)\n",
        "  test_labels.append(0)\n",
        "\n",
        "for i in range(200):\n",
        "  # The 95% of younger individuals who did not experience side effects\n",
        "  random_younger = randint(13, 64)\n",
        "  test_samples.append(random_younger)\n",
        "  test_labels.append(0)\n",
        "\n",
        "  # The 95% of older individuals who did experience side effects\n",
        "  random_older = randint(65, 100)\n",
        "  test_samples.append(random_older)\n",
        "  test_labels.append(1)\n",
        "\n",
        "\n",
        "test_labels = np.array(test_labels)\n",
        "test_samples = np.array(test_samples)\n",
        "test_labels, test_samples = shuffle(test_labels, test_samples)\n",
        "\n",
        "scaled_test_samples = scaler.transform(test_samples.reshape(-1, 1))"
      ],
      "metadata": {
        "id": "yj5oSALQwMN_"
      },
      "execution_count": null,
      "outputs": []
    },
    {
      "cell_type": "code",
      "source": [
        "predictions = model.predict(\n",
        "    x = scaled_test_samples,\n",
        "    batch_size = 10,\n",
        "    verbose = 0\n",
        ")"
      ],
      "metadata": {
        "id": "PfEPnC6Pw-Q1"
      },
      "execution_count": null,
      "outputs": []
    },
    {
      "cell_type": "code",
      "source": [
        "print(predictions[:5])"
      ],
      "metadata": {
        "colab": {
          "base_uri": "https://localhost:8080/"
        },
        "id": "PbtHEYTpxKB0",
        "outputId": "f816a7fe-0c2b-4fbd-b7ef-47213a77c09c"
      },
      "execution_count": null,
      "outputs": [
        {
          "output_type": "stream",
          "name": "stdout",
          "text": [
            "[[0.38269207 0.6173079 ]\n",
            " [0.7199841  0.28001583]\n",
            " [0.13008238 0.8699175 ]\n",
            " [0.9552119  0.04478807]\n",
            " [0.0344139  0.965586  ]]\n"
          ]
        }
      ]
    },
    {
      "cell_type": "code",
      "source": [
        "# roounding np prediction to get 0 or 1\n",
        "rounded_predictions = np.argmax(predictions, axis=-1)\n",
        "rounded_predictions[:5]"
      ],
      "metadata": {
        "colab": {
          "base_uri": "https://localhost:8080/"
        },
        "id": "vPrkqv97xP1M",
        "outputId": "2e01141f-1225-4d4f-d61a-2433ecd4e31d"
      },
      "execution_count": null,
      "outputs": [
        {
          "output_type": "execute_result",
          "data": {
            "text/plain": [
              "array([1, 0, 1, 0, 1])"
            ]
          },
          "metadata": {},
          "execution_count": 27
        }
      ]
    },
    {
      "cell_type": "code",
      "source": [
        "# confusion matrics foor accuracy check\n",
        "from sklearn.metrics import confusion_matrix, ConfusionMatrixDisplay\n",
        "import itertools\n",
        "import matplotlib.pyplot as plt"
      ],
      "metadata": {
        "id": "dLq9B0y2xydc"
      },
      "execution_count": null,
      "outputs": []
    },
    {
      "cell_type": "code",
      "source": [
        "cm = confusion_matrix(y_true=test_labels, y_pred=rounded_predictions)"
      ],
      "metadata": {
        "id": "o52YW4T9zWmU"
      },
      "execution_count": null,
      "outputs": []
    },
    {
      "cell_type": "code",
      "source": [
        "import seaborn as sns\n",
        "sns.heatmap(cm, annot=True)"
      ],
      "metadata": {
        "colab": {
          "base_uri": "https://localhost:8080/",
          "height": 452
        },
        "id": "6bv3w0l8zkCN",
        "outputId": "0ffecced-bd43-4652-8819-31524b022b17"
      },
      "execution_count": null,
      "outputs": [
        {
          "output_type": "execute_result",
          "data": {
            "text/plain": [
              "<Axes: >"
            ]
          },
          "metadata": {},
          "execution_count": 40
        },
        {
          "output_type": "display_data",
          "data": {
            "text/plain": [
              "<Figure size 640x480 with 2 Axes>"
            ],
            "image/png": "[encoded data removed]"
          },
          "metadata": {}
        }
      ]
    },
    {
      "cell_type": "code",
      "source": [
        "# prompt: import sklearn mean_square_error\n",
        "\n",
        "from sklearn.metrics import mean_squared_error\n"
      ],
      "metadata": {
        "id": "HPkuUcTYzmx0"
      },
      "execution_count": null,
      "outputs": []
    }
  ]
}