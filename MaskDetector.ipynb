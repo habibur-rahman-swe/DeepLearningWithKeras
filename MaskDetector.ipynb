{
  "nbformat": 4,
  "nbformat_minor": 0,
  "metadata": {
    "colab": {
      "provenance": [],
      "authorship_tag": "ABX9TyOz7zof2ibwlS84vOAX6AN1",
      "include_colab_link": true
    },
    "kernelspec": {
      "name": "python3",
      "display_name": "Python 3"
    },
    "language_info": {
      "name": "python"
    }
  },
  "cells": [
    {
      "cell_type": "markdown",
      "metadata": {
        "id": "view-in-github",
        "colab_type": "text"
      },
      "source": [
        "<a href=\"https://colab.research.google.com/github/habibur-rahman-swe/DeepLearningWithKeras/blob/main/MaskDetector.ipynb\" target=\"_parent\"><img src=\"https://colab.research.google.com/assets/colab-badge.svg\" alt=\"Open In Colab\"/></a>"
      ]
    },
    {
      "cell_type": "code",
      "execution_count": 10,
      "metadata": {
        "id": "Z47JgbQ7lrio"
      },
      "outputs": [],
      "source": [
        "# import the necessary packages\n",
        "from keras.applications.mobilenet_v2 import preprocess_input\n",
        "from keras.preprocessing.image import img_to_array\n",
        "from keras.models import load_model\n",
        "from imutils.video import VideoStream\n",
        "import numpy as np\n",
        "import imutils\n",
        "import time\n",
        "import cv2\n",
        "import os"
      ]
    },
    {
      "cell_type": "code",
      "source": [
        "def detect_and_predict_mask(frame, faceNet, maskNet):\n",
        "  # grab the dimensions of the frame and then construct a blob from it\n",
        "  (h, w) = frame.shape[:2]\n",
        "  blob = cv2.dnn.blobFromImage(frame, 1.0, (224, 224),\n",
        "                               (104.0, 177.0, 123.0))\n",
        "\n",
        "  # pass the blob through the network and obtain the face detections\n",
        "  faceNet.setInput(blob)\n",
        "  detections = faceNet.forward()\n",
        "  print(detections.shape)\n",
        "\n",
        "  # initialize out list of faces, theri corresponding locations and the list of predictions from out face mask network\n",
        "  faces = []\n",
        "  locs = []\n",
        "  preds = []\n",
        "\n",
        "  # loop over the detections\n",
        "  for i in range(0, detections.shape[2]):\n",
        "    # extract the confidence(probability) associated with the detection\n",
        "    confidence = detections[0, 0, i, 2]\n",
        "\n",
        "    # filter out weak detections by ensuring the confidence is greater than the minimum confidence\n",
        "    if confidence > 0.5:\n",
        "      # computer ther (x, y) -> cooordinates of the bounding box for the object\n",
        "      box = detections[0, 0, i, 3:7] * np.array([w, h, w, h])\n",
        "      (startX, startY, endX, endY) = box.astype(\"int\")\n",
        "\n",
        "      # ensure the bounding boxes fall within the dimensions of the frame\n",
        "      (startX, startY) = (max(0, startX), max(0, startY))\n",
        "      (endX, endY) = (min(w - 1, endX), min(h-1, endY))\n",
        "\n",
        "      # extract the face ROI, convert it from BGR to RGB channel\n",
        "      # ordering, resize it to 224x224, and preprocess itface = frame\n",
        "      face = frame[startX:endY, startX:endX]\n",
        "      face = cv2.cvtColor(face, cv2.COLOR_BGR2RG)\n",
        "      face = cv2.resize(face, (224, 224))\n",
        "      face = img_to_array(face)\n",
        "      face = preprocess_input(face)\n",
        "\n",
        "      # add the face and bounding boxes to theri respective lists\n",
        "      faces.append(face)\n",
        "      locs.append((startX, startY, endX, endY))\n",
        "\n",
        "  # only make a predictions if at least one face was detected\n",
        "  if len(faces) > 0:\n",
        "    # for faster interence we'll make batch predictions on 'all' faces at the same time rather than one-by-one predictions in the avove for loop\n",
        "    faces = np.array(faces, dtype='float32')\n",
        "    preds = maskNet.predict(faces, batch_size=32)\n",
        "\n",
        "  return (locs, preds)\n"
      ],
      "metadata": {
        "id": "W9yKh5aqmXbZ"
      },
      "execution_count": 11,
      "outputs": []
    },
    {
      "cell_type": "code",
      "source": [
        "# # load out serialized face detector model from disk\n",
        "# prototxtPath = r\"face_detector\\deploy.prototxt\"\n",
        "# weightsPath = r\"face_detector\\res10_300x300_ssd_iter_140000.caffemodel\"\n",
        "# faceNet = cv2.dnn.readNet(prototxtPath, weightsPath)\n",
        "\n",
        "maskNet = load_model(\"/content/my_model.keras\")"
      ],
      "metadata": {
        "id": "8kH4G-ripd2Z"
      },
      "execution_count": 13,
      "outputs": []
    },
    {
      "cell_type": "code",
      "source": [],
      "metadata": {
        "id": "mq6C_vOtq5HA"
      },
      "execution_count": null,
      "outputs": []
    }
  ]
}