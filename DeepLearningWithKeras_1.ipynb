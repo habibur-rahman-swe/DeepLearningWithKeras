{
  "nbformat": 4,
  "nbformat_minor": 0,
  "metadata": {
    "colab": {
      "provenance": [],
      "authorship_tag": "ABX9TyOKAQOfY7PcmhelWmAhBON6",
      "include_colab_link": true
    },
    "kernelspec": {
      "name": "python3",
      "display_name": "Python 3"
    },
    "language_info": {
      "name": "python"
    }
  },
  "cells": [
    {
      "cell_type": "markdown",
      "metadata": {
        "id": "view-in-github",
        "colab_type": "text"
      },
      "source": [
        "<a href=\"https://colab.research.google.com/github/habibur-rahman-swe/DeepLearningWithKeras/blob/main/DeepLearningWithKeras_1.ipynb\" target=\"_parent\"><img src=\"https://colab.research.google.com/assets/colab-badge.svg\" alt=\"Open In Colab\"/></a>"
      ]
    },
    {
      "cell_type": "code",
      "source": [
        "import tensorflow as tf"
      ],
      "metadata": {
        "id": "FQQgozFV5Jsw"
      },
      "execution_count": null,
      "outputs": []
    },
    {
      "cell_type": "code",
      "source": [
        "print(('Your Tensorflow version: {0}').format(tf.__version__))"
      ],
      "metadata": {
        "colab": {
          "base_uri": "https://localhost:8080/"
        },
        "id": "Fd09aW845NU2",
        "outputId": "42945257-3513-4147-ca3b-eccf0af03ee4"
      },
      "execution_count": null,
      "outputs": [
        {
          "output_type": "stream",
          "name": "stdout",
          "text": [
            "Your Tensorflow version: 2.15.0\n"
          ]
        }
      ]
    },
    {
      "cell_type": "code",
      "source": [
        "# create a constant tensor A\n",
        "A = tf.constant([[4, 3],\n",
        "                 [6, 1]])\n",
        "A"
      ],
      "metadata": {
        "colab": {
          "base_uri": "https://localhost:8080/"
        },
        "id": "JmpTebl35coV",
        "outputId": "2536421a-b8a7-403e-a587-7189dba7959c"
      },
      "execution_count": null,
      "outputs": [
        {
          "output_type": "execute_result",
          "data": {
            "text/plain": [
              "<tf.Tensor: shape=(2, 2), dtype=int32, numpy=\n",
              "array([[4, 3],\n",
              "       [6, 1]], dtype=int32)>"
            ]
          },
          "metadata": {},
          "execution_count": 3
        }
      ]
    },
    {
      "cell_type": "code",
      "source": [
        "# create a variable tensor v\n",
        "V = tf.Variable([[3, 1],\n",
        "                 [5, 2]])\n",
        "# create another tensor B\n",
        "B = tf.constant([[7, 8],\n",
        "                 [4, 5]])\n",
        "print(V)\n",
        "B"
      ],
      "metadata": {
        "colab": {
          "base_uri": "https://localhost:8080/"
        },
        "id": "qQBMNNoR5p39",
        "outputId": "322d625e-1d65-49f1-9f29-631c56e0f3f9"
      },
      "execution_count": null,
      "outputs": [
        {
          "output_type": "stream",
          "name": "stdout",
          "text": [
            "<tf.Variable 'Variable:0' shape=(2, 2) dtype=int32, numpy=\n",
            "array([[3, 1],\n",
            "       [5, 2]], dtype=int32)>\n"
          ]
        },
        {
          "output_type": "execute_result",
          "data": {
            "text/plain": [
              "<tf.Tensor: shape=(2, 2), dtype=int32, numpy=\n",
              "array([[7, 8],\n",
              "       [4, 5]], dtype=int32)>"
            ]
          },
          "metadata": {},
          "execution_count": 7
        }
      ]
    },
    {
      "cell_type": "code",
      "source": [
        "# Concatenate columns (2, 2)\n",
        "AB_concatenated = tf.concat(values=[A, B], axis=1)\n",
        "AB_concatenated"
      ],
      "metadata": {
        "colab": {
          "base_uri": "https://localhost:8080/"
        },
        "id": "NRhcZ_zG50_0",
        "outputId": "fc12cf87-128a-4a72-a92e-ae77a294ccc8"
      },
      "execution_count": null,
      "outputs": [
        {
          "output_type": "execute_result",
          "data": {
            "text/plain": [
              "<tf.Tensor: shape=(2, 4), dtype=int32, numpy=\n",
              "array([[4, 3, 7, 8],\n",
              "       [6, 1, 4, 5]], dtype=int32)>"
            ]
          },
          "metadata": {},
          "execution_count": 9
        }
      ]
    },
    {
      "cell_type": "code",
      "source": [
        "# Concatenate rows (2, 2)\n",
        "AB_concatenated = tf.concat(values=[A, B], axis=0)\n",
        "AB_concatenated"
      ],
      "metadata": {
        "colab": {
          "base_uri": "https://localhost:8080/"
        },
        "id": "6Yzvo9Z1GEmN",
        "outputId": "c287b17d-4193-4af6-9e08-78ef6164ca88"
      },
      "execution_count": null,
      "outputs": [
        {
          "output_type": "execute_result",
          "data": {
            "text/plain": [
              "<tf.Tensor: shape=(4, 2), dtype=int32, numpy=\n",
              "array([[4, 3],\n",
              "       [6, 1],\n",
              "       [7, 8],\n",
              "       [4, 5]], dtype=int32)>"
            ]
          },
          "metadata": {},
          "execution_count": 10
        }
      ]
    },
    {
      "cell_type": "code",
      "source": [
        "tensor = tf.zeros(shape=[3, 4], dtype=tf.float32)\n",
        "tensor"
      ],
      "metadata": {
        "colab": {
          "base_uri": "https://localhost:8080/"
        },
        "id": "2WNT7626HDrk",
        "outputId": "39b99acf-fe80-4537-ec7f-510cd65be749"
      },
      "execution_count": null,
      "outputs": [
        {
          "output_type": "execute_result",
          "data": {
            "text/plain": [
              "<tf.Tensor: shape=(3, 4), dtype=float32, numpy=\n",
              "array([[0., 0., 0., 0.],\n",
              "       [0., 0., 0., 0.],\n",
              "       [0., 0., 0., 0.]], dtype=float32)>"
            ]
          },
          "metadata": {},
          "execution_count": 12
        }
      ]
    },
    {
      "cell_type": "code",
      "source": [
        "tensor = tf.random.uniform(shape=[3, 4], dtype=tf.float32)\n",
        "tensor"
      ],
      "metadata": {
        "colab": {
          "base_uri": "https://localhost:8080/"
        },
        "id": "JjitnmRZHN2y",
        "outputId": "17e1ddf3-145f-4ff1-b564-34aa526b6f8c"
      },
      "execution_count": null,
      "outputs": [
        {
          "output_type": "execute_result",
          "data": {
            "text/plain": [
              "<tf.Tensor: shape=(3, 4), dtype=float32, numpy=\n",
              "array([[0.42632663, 0.7947216 , 0.25647342, 0.32245195],\n",
              "       [0.01210928, 0.8649639 , 0.79825306, 0.46871877],\n",
              "       [0.62647545, 0.3930987 , 0.37663996, 0.60284245]], dtype=float32)>"
            ]
          },
          "metadata": {},
          "execution_count": 19
        }
      ]
    },
    {
      "cell_type": "code",
      "source": [
        "reshaped_tesor = tf.reshape(tensor = tensor, shape = [4, 3])\n",
        "reshaped_tesor"
      ],
      "metadata": {
        "colab": {
          "base_uri": "https://localhost:8080/"
        },
        "id": "9XSCD4IWHiUB",
        "outputId": "1b28c960-6656-42b5-cd79-4248ed5d4b77"
      },
      "execution_count": null,
      "outputs": [
        {
          "output_type": "execute_result",
          "data": {
            "text/plain": [
              "<tf.Tensor: shape=(4, 3), dtype=float32, numpy=\n",
              "array([[0.42632663, 0.7947216 , 0.25647342],\n",
              "       [0.32245195, 0.01210928, 0.8649639 ],\n",
              "       [0.79825306, 0.46871877, 0.62647545],\n",
              "       [0.3930987 , 0.37663996, 0.60284245]], dtype=float32)>"
            ]
          },
          "metadata": {},
          "execution_count": 20
        }
      ]
    },
    {
      "cell_type": "code",
      "source": [
        "tensor_as_int = tf.cast(tensor, tf.int32)\n",
        "tensor_as_int"
      ],
      "metadata": {
        "id": "t66DPkQ5IJhZ",
        "colab": {
          "base_uri": "https://localhost:8080/"
        },
        "outputId": "ce176197-e013-4563-e478-d42e2f44da3a"
      },
      "execution_count": 22,
      "outputs": [
        {
          "output_type": "execute_result",
          "data": {
            "text/plain": [
              "<tf.Tensor: shape=(3, 4), dtype=int32, numpy=\n",
              "array([[0, 0, 0, 0],\n",
              "       [0, 0, 0, 0],\n",
              "       [0, 0, 0, 0]], dtype=int32)>"
            ]
          },
          "metadata": {},
          "execution_count": 22
        }
      ]
    },
    {
      "cell_type": "code",
      "source": [
        "a = tf.transpose(tensor_as_int)\n",
        "a"
      ],
      "metadata": {
        "id": "hFQFpOZFiT_k",
        "colab": {
          "base_uri": "https://localhost:8080/"
        },
        "outputId": "1aed1489-dfc2-4832-bc5c-3bd37ed85da9"
      },
      "execution_count": 23,
      "outputs": [
        {
          "output_type": "execute_result",
          "data": {
            "text/plain": [
              "<tf.Tensor: shape=(4, 3), dtype=int32, numpy=\n",
              "array([[0, 0, 0],\n",
              "       [0, 0, 0],\n",
              "       [0, 0, 0],\n",
              "       [0, 0, 0]], dtype=int32)>"
            ]
          },
          "metadata": {},
          "execution_count": 23
        }
      ]
    },
    {
      "cell_type": "code",
      "source": [
        "A = tf.constant([[4, 3],\n",
        "                 [6, 1]])\n",
        "\n",
        "V = tf.constant([[4], [2]])\n",
        "\n",
        "AV = tf.matmul(A, V)\n",
        "AV"
      ],
      "metadata": {
        "colab": {
          "base_uri": "https://localhost:8080/"
        },
        "id": "ma0ZifSHDFAE",
        "outputId": "156696ad-ff49-4ab8-fee8-d8b87c3567f2"
      },
      "execution_count": 30,
      "outputs": [
        {
          "output_type": "execute_result",
          "data": {
            "text/plain": [
              "<tf.Tensor: shape=(2, 1), dtype=int32, numpy=\n",
              "array([[22],\n",
              "       [26]], dtype=int32)>"
            ]
          },
          "metadata": {},
          "execution_count": 30
        }
      ]
    },
    {
      "cell_type": "code",
      "source": [
        "A = tf.constant([[4, 9],\n",
        "                 [5, 6],\n",
        "                 [1, 8]])\n",
        "rows, columns = A.shape\n",
        "print('rows', rows, 'columns', columns)"
      ],
      "metadata": {
        "colab": {
          "base_uri": "https://localhost:8080/"
        },
        "id": "6NzVA_4GEXH0",
        "outputId": "a3fe5a3d-0800-435d-b3e3-aae45910bd7d"
      },
      "execution_count": 31,
      "outputs": [
        {
          "output_type": "stream",
          "name": "stdout",
          "text": [
            "rows 3 columns 2\n"
          ]
        }
      ]
    },
    {
      "cell_type": "code",
      "source": [],
      "metadata": {
        "id": "Q4VTq6eTDxgj"
      },
      "execution_count": null,
      "outputs": []
    }
  ]
}